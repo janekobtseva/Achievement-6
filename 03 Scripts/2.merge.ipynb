{
 "cells": [
  {
   "cell_type": "code",
   "execution_count": 1,
   "id": "3f94ecf8-85d5-4780-8a71-2a06ae4459cd",
   "metadata": {},
   "outputs": [],
   "source": [
    "# Import libraries\n",
    "import pandas as pd\n",
    "import numpy as np\n",
    "import os"
   ]
  },
  {
   "cell_type": "code",
   "execution_count": 2,
   "id": "1e52c176-6e7b-47ca-a84b-4843ae890ad4",
   "metadata": {},
   "outputs": [],
   "source": [
    "# Import customer table\n",
    "path_customers = r'/Users/janekobtseva/10-10-2025 Brazilian E-Commerce Public Dataset/02 Data/Original Data/olist_customers_dataset.csv'"
   ]
  },
  {
   "cell_type": "code",
   "execution_count": 5,
   "id": "819a6248-b79e-45f5-9ed4-759acc6cd172",
   "metadata": {},
   "outputs": [],
   "source": [
    "df_customers = pd.read_csv(os.path.join(path_customers), index_col = False)"
   ]
  },
  {
   "cell_type": "code",
   "execution_count": 7,
   "id": "53a0973b-d8e4-4e3b-9c97-798408a65b92",
   "metadata": {},
   "outputs": [],
   "source": [
    "# Import olist_geolocation_dataset table\n",
    "path_geolocation = r'/Users/janekobtseva/10-10-2025 Brazilian E-Commerce Public Dataset/02 Data/Original Data/olist_geolocation_dataset.csv'"
   ]
  },
  {
   "cell_type": "code",
   "execution_count": 9,
   "id": "024d8ede-ee77-4952-a952-76cf4de6dab5",
   "metadata": {},
   "outputs": [],
   "source": [
    "df_geolocation = pd.read_csv(os.path.join(path_geolocation), index_col = False)"
   ]
  },
  {
   "cell_type": "code",
   "execution_count": 11,
   "id": "ebc60600-50cc-4ca8-9335-9a5635c930a7",
   "metadata": {},
   "outputs": [],
   "source": [
    "# Import order_items table\n",
    "path_order_items = r'/Users/janekobtseva/10-10-2025 Brazilian E-Commerce Public Dataset/02 Data/Original Data/olist_order_items_dataset.csv'"
   ]
  },
  {
   "cell_type": "code",
   "execution_count": 13,
   "id": "d0dd1801-2878-471b-b208-66d347874290",
   "metadata": {},
   "outputs": [],
   "source": [
    "df_order_items = pd.read_csv(os.path.join(path_order_items), index_col = False)"
   ]
  },
  {
   "cell_type": "code",
   "execution_count": 15,
   "id": "19fffbb3-a7be-4c8f-93b3-3304b0f97f7e",
   "metadata": {},
   "outputs": [],
   "source": [
    "# Import payments table\n",
    "path_payments = r'/Users/janekobtseva/10-10-2025 Brazilian E-Commerce Public Dataset/02 Data/Original Data/olist_order_payments_dataset.csv'"
   ]
  },
  {
   "cell_type": "code",
   "execution_count": 17,
   "id": "f8ac34de-2480-4192-85b6-a213ce3f6b77",
   "metadata": {},
   "outputs": [],
   "source": [
    "df_payments = pd.read_csv(os.path.join(path_payments), index_col = False)"
   ]
  },
  {
   "cell_type": "code",
   "execution_count": 19,
   "id": "6eff90f5-cca8-4d34-9157-96220bde23d9",
   "metadata": {},
   "outputs": [],
   "source": [
    "# Import olist_order_reviews_dataset table\n",
    "path_order_reviews = r'/Users/janekobtseva/10-10-2025 Brazilian E-Commerce Public Dataset/02 Data/Original Data/olist_order_reviews_dataset.csv'"
   ]
  },
  {
   "cell_type": "code",
   "execution_count": 21,
   "id": "0bc8ad67-677c-48f4-9399-60c77ce99c51",
   "metadata": {},
   "outputs": [],
   "source": [
    "df_order_reviews = pd.read_csv(os.path.join(path_order_reviews), index_col = False)"
   ]
  },
  {
   "cell_type": "code",
   "execution_count": 23,
   "id": "59774276-52be-4da1-a043-2c4896e49ca4",
   "metadata": {},
   "outputs": [],
   "source": [
    "# Import orders table\n",
    "path_order = r'/Users/janekobtseva/10-10-2025 Brazilian E-Commerce Public Dataset/02 Data/Prepared Data/df_order_clean.csv'"
   ]
  },
  {
   "cell_type": "code",
   "execution_count": 25,
   "id": "ed0abe97-445d-4d48-ad44-542d2dec58b5",
   "metadata": {},
   "outputs": [],
   "source": [
    "df_order = pd.read_csv(os.path.join(path_order), index_col = False)"
   ]
  },
  {
   "cell_type": "code",
   "execution_count": 27,
   "id": "ef653005-dada-48d8-aafb-546b91a019a9",
   "metadata": {},
   "outputs": [],
   "source": [
    "# Import products_dataset table\n",
    "path_products = r'/Users/janekobtseva/10-10-2025 Brazilian E-Commerce Public Dataset/02 Data/Prepared Data/df_products_clean.csv'"
   ]
  },
  {
   "cell_type": "code",
   "execution_count": 29,
   "id": "eca5fad8-a595-481a-9aa3-03d7ee6288e1",
   "metadata": {},
   "outputs": [],
   "source": [
    "df_products = pd.read_csv(os.path.join(path_products), index_col = False)"
   ]
  },
  {
   "cell_type": "code",
   "execution_count": 31,
   "id": "43b29ffa-a72b-4958-a841-00079e096ec2",
   "metadata": {},
   "outputs": [],
   "source": [
    "# Import seller table\n",
    "path_seller = r'/Users/janekobtseva/10-10-2025 Brazilian E-Commerce Public Dataset/02 Data/Original Data/olist_sellers_dataset.csv'"
   ]
  },
  {
   "cell_type": "code",
   "execution_count": 33,
   "id": "bce1c762-c778-4aaa-a41b-655c8c4a06f4",
   "metadata": {},
   "outputs": [],
   "source": [
    "df_seller = pd.read_csv(os.path.join(path_seller), index_col = False)"
   ]
  },
  {
   "cell_type": "code",
   "execution_count": 35,
   "id": "fba17784-d8e8-4c47-a2ae-cff45b81e7c0",
   "metadata": {},
   "outputs": [],
   "source": [
    "# Import categoty table\n",
    "path_product_category_name = r'/Users/janekobtseva/10-10-2025 Brazilian E-Commerce Public Dataset/02 Data/Original Data/product_category_name_translation.csv'"
   ]
  },
  {
   "cell_type": "code",
   "execution_count": 37,
   "id": "b2495174-dddc-4eb2-9480-02de06ed5367",
   "metadata": {},
   "outputs": [],
   "source": [
    "df_product_category_name = pd.read_csv(os.path.join(path_product_category_name), index_col = False)"
   ]
  },
  {
   "cell_type": "code",
   "execution_count": 39,
   "id": "96e6a61f-eaa1-4d68-ae24-4738c7ea4998",
   "metadata": {},
   "outputs": [],
   "source": [
    "df_merged_items_orders = df_order_items.merge(df_order, on = 'order_id', indicator = True)"
   ]
  },
  {
   "cell_type": "code",
   "execution_count": 41,
   "id": "cbb71dc2-919f-4873-81b6-b3e0b877a795",
   "metadata": {},
   "outputs": [
    {
     "data": {
      "text/html": [
       "<div>\n",
       "<style scoped>\n",
       "    .dataframe tbody tr th:only-of-type {\n",
       "        vertical-align: middle;\n",
       "    }\n",
       "\n",
       "    .dataframe tbody tr th {\n",
       "        vertical-align: top;\n",
       "    }\n",
       "\n",
       "    .dataframe thead th {\n",
       "        text-align: right;\n",
       "    }\n",
       "</style>\n",
       "<table border=\"1\" class=\"dataframe\">\n",
       "  <thead>\n",
       "    <tr style=\"text-align: right;\">\n",
       "      <th></th>\n",
       "      <th>order_id</th>\n",
       "      <th>order_item_id</th>\n",
       "      <th>product_id</th>\n",
       "      <th>seller_id</th>\n",
       "      <th>shipping_limit_date</th>\n",
       "      <th>price</th>\n",
       "      <th>freight_value</th>\n",
       "      <th>Unnamed: 0</th>\n",
       "      <th>customer_id</th>\n",
       "      <th>order_status</th>\n",
       "      <th>order_purchase_timestamp</th>\n",
       "      <th>order_approved_at</th>\n",
       "      <th>order_delivered_carrier_date</th>\n",
       "      <th>order_delivered_customer_date</th>\n",
       "      <th>order_estimated_delivery_date</th>\n",
       "      <th>_merge</th>\n",
       "    </tr>\n",
       "  </thead>\n",
       "  <tbody>\n",
       "    <tr>\n",
       "      <th>0</th>\n",
       "      <td>00010242fe8c5a6d1ba2dd792cb16214</td>\n",
       "      <td>1</td>\n",
       "      <td>4244733e06e7ecb4970a6e2683c13e61</td>\n",
       "      <td>48436dade18ac8b2bce089ec2a041202</td>\n",
       "      <td>2017-09-19 09:45:35</td>\n",
       "      <td>58.90</td>\n",
       "      <td>13.29</td>\n",
       "      <td>85267</td>\n",
       "      <td>3ce436f183e68e07877b285a838db11a</td>\n",
       "      <td>delivered</td>\n",
       "      <td>2017-09-13 08:59:02</td>\n",
       "      <td>2017-09-13 09:45:35</td>\n",
       "      <td>2017-09-19 18:34:16</td>\n",
       "      <td>2017-09-20 23:43:48</td>\n",
       "      <td>2017-09-29 00:00:00</td>\n",
       "      <td>both</td>\n",
       "    </tr>\n",
       "    <tr>\n",
       "      <th>1</th>\n",
       "      <td>00018f77f2f0320c557190d7a144bdd3</td>\n",
       "      <td>1</td>\n",
       "      <td>e5f2d52b802189ee658865ca93d83a8f</td>\n",
       "      <td>dd7ddc04e1b6c2c614352b383efe2d36</td>\n",
       "      <td>2017-05-03 11:05:13</td>\n",
       "      <td>239.90</td>\n",
       "      <td>19.93</td>\n",
       "      <td>71853</td>\n",
       "      <td>f6dd3ec061db4e3987629fe6b26e5cce</td>\n",
       "      <td>delivered</td>\n",
       "      <td>2017-04-26 10:53:06</td>\n",
       "      <td>2017-04-26 11:05:13</td>\n",
       "      <td>2017-05-04 14:35:00</td>\n",
       "      <td>2017-05-12 16:04:24</td>\n",
       "      <td>2017-05-15 00:00:00</td>\n",
       "      <td>both</td>\n",
       "    </tr>\n",
       "    <tr>\n",
       "      <th>2</th>\n",
       "      <td>000229ec398224ef6ca0657da4fc703e</td>\n",
       "      <td>1</td>\n",
       "      <td>c777355d18b72b67abbeef9df44fd0fd</td>\n",
       "      <td>5b51032eddd242adc84c38acab88f23d</td>\n",
       "      <td>2018-01-18 14:48:30</td>\n",
       "      <td>199.00</td>\n",
       "      <td>17.87</td>\n",
       "      <td>6298</td>\n",
       "      <td>6489ae5e4333f3693df5ad4372dab6d3</td>\n",
       "      <td>delivered</td>\n",
       "      <td>2018-01-14 14:33:31</td>\n",
       "      <td>2018-01-14 14:48:30</td>\n",
       "      <td>2018-01-16 12:36:48</td>\n",
       "      <td>2018-01-22 13:19:16</td>\n",
       "      <td>2018-02-05 00:00:00</td>\n",
       "      <td>both</td>\n",
       "    </tr>\n",
       "    <tr>\n",
       "      <th>3</th>\n",
       "      <td>00024acbcdf0a6daa1e931b038114c75</td>\n",
       "      <td>1</td>\n",
       "      <td>7634da152a4610f1595efa32f14722fc</td>\n",
       "      <td>9d7a1d34a5052409006425275ba1c2b4</td>\n",
       "      <td>2018-08-15 10:10:18</td>\n",
       "      <td>12.99</td>\n",
       "      <td>12.79</td>\n",
       "      <td>22550</td>\n",
       "      <td>d4eb9395c8c0431ee92fce09860c5a06</td>\n",
       "      <td>delivered</td>\n",
       "      <td>2018-08-08 10:00:35</td>\n",
       "      <td>2018-08-08 10:10:18</td>\n",
       "      <td>2018-08-10 13:28:00</td>\n",
       "      <td>2018-08-14 13:32:39</td>\n",
       "      <td>2018-08-20 00:00:00</td>\n",
       "      <td>both</td>\n",
       "    </tr>\n",
       "    <tr>\n",
       "      <th>4</th>\n",
       "      <td>00042b26cf59d7ce69dfabb4e55b4fd9</td>\n",
       "      <td>1</td>\n",
       "      <td>ac6c3623068f30de03045865e4e10089</td>\n",
       "      <td>df560393f3a51e74553ab94004ba5c87</td>\n",
       "      <td>2017-02-13 13:57:51</td>\n",
       "      <td>199.90</td>\n",
       "      <td>18.14</td>\n",
       "      <td>5247</td>\n",
       "      <td>58dbd0b2d70206bf40e62cd34e84d795</td>\n",
       "      <td>delivered</td>\n",
       "      <td>2017-02-04 13:57:51</td>\n",
       "      <td>2017-02-04 14:10:13</td>\n",
       "      <td>2017-02-16 09:46:09</td>\n",
       "      <td>2017-03-01 16:42:31</td>\n",
       "      <td>2017-03-17 00:00:00</td>\n",
       "      <td>both</td>\n",
       "    </tr>\n",
       "  </tbody>\n",
       "</table>\n",
       "</div>"
      ],
      "text/plain": [
       "                           order_id  order_item_id  \\\n",
       "0  00010242fe8c5a6d1ba2dd792cb16214              1   \n",
       "1  00018f77f2f0320c557190d7a144bdd3              1   \n",
       "2  000229ec398224ef6ca0657da4fc703e              1   \n",
       "3  00024acbcdf0a6daa1e931b038114c75              1   \n",
       "4  00042b26cf59d7ce69dfabb4e55b4fd9              1   \n",
       "\n",
       "                         product_id                         seller_id  \\\n",
       "0  4244733e06e7ecb4970a6e2683c13e61  48436dade18ac8b2bce089ec2a041202   \n",
       "1  e5f2d52b802189ee658865ca93d83a8f  dd7ddc04e1b6c2c614352b383efe2d36   \n",
       "2  c777355d18b72b67abbeef9df44fd0fd  5b51032eddd242adc84c38acab88f23d   \n",
       "3  7634da152a4610f1595efa32f14722fc  9d7a1d34a5052409006425275ba1c2b4   \n",
       "4  ac6c3623068f30de03045865e4e10089  df560393f3a51e74553ab94004ba5c87   \n",
       "\n",
       "   shipping_limit_date   price  freight_value  Unnamed: 0  \\\n",
       "0  2017-09-19 09:45:35   58.90          13.29       85267   \n",
       "1  2017-05-03 11:05:13  239.90          19.93       71853   \n",
       "2  2018-01-18 14:48:30  199.00          17.87        6298   \n",
       "3  2018-08-15 10:10:18   12.99          12.79       22550   \n",
       "4  2017-02-13 13:57:51  199.90          18.14        5247   \n",
       "\n",
       "                        customer_id order_status order_purchase_timestamp  \\\n",
       "0  3ce436f183e68e07877b285a838db11a    delivered      2017-09-13 08:59:02   \n",
       "1  f6dd3ec061db4e3987629fe6b26e5cce    delivered      2017-04-26 10:53:06   \n",
       "2  6489ae5e4333f3693df5ad4372dab6d3    delivered      2018-01-14 14:33:31   \n",
       "3  d4eb9395c8c0431ee92fce09860c5a06    delivered      2018-08-08 10:00:35   \n",
       "4  58dbd0b2d70206bf40e62cd34e84d795    delivered      2017-02-04 13:57:51   \n",
       "\n",
       "     order_approved_at order_delivered_carrier_date  \\\n",
       "0  2017-09-13 09:45:35          2017-09-19 18:34:16   \n",
       "1  2017-04-26 11:05:13          2017-05-04 14:35:00   \n",
       "2  2018-01-14 14:48:30          2018-01-16 12:36:48   \n",
       "3  2018-08-08 10:10:18          2018-08-10 13:28:00   \n",
       "4  2017-02-04 14:10:13          2017-02-16 09:46:09   \n",
       "\n",
       "  order_delivered_customer_date order_estimated_delivery_date _merge  \n",
       "0           2017-09-20 23:43:48           2017-09-29 00:00:00   both  \n",
       "1           2017-05-12 16:04:24           2017-05-15 00:00:00   both  \n",
       "2           2018-01-22 13:19:16           2018-02-05 00:00:00   both  \n",
       "3           2018-08-14 13:32:39           2018-08-20 00:00:00   both  \n",
       "4           2017-03-01 16:42:31           2017-03-17 00:00:00   both  "
      ]
     },
     "execution_count": 41,
     "metadata": {},
     "output_type": "execute_result"
    }
   ],
   "source": [
    "df_merged_items_orders.head()"
   ]
  },
  {
   "cell_type": "code",
   "execution_count": 43,
   "id": "edb764c8-8065-4c5a-95f8-d9c52c0fee2f",
   "metadata": {},
   "outputs": [],
   "source": [
    "df_merged_items_orders_2=df_merged_items_orders.drop(columns = ['_merge'])"
   ]
  },
  {
   "cell_type": "code",
   "execution_count": 45,
   "id": "3c846409-5814-4b8c-888c-8f58881a0f36",
   "metadata": {},
   "outputs": [],
   "source": [
    "df_merged_items_reviews = df_merged_items_orders_2.merge(df_order_reviews, on = 'order_id', indicator = True)"
   ]
  },
  {
   "cell_type": "code",
   "execution_count": 46,
   "id": "ec3fd8cb-71c0-4bef-a83d-7efb881bd002",
   "metadata": {},
   "outputs": [],
   "source": [
    "df_merged_items_reviews_2=df_merged_items_reviews.drop(columns = ['_merge'])"
   ]
  },
  {
   "cell_type": "code",
   "execution_count": 49,
   "id": "f7d80d59-3ab2-4f60-906a-d8d9a3aefe23",
   "metadata": {},
   "outputs": [],
   "source": [
    "df_merged_items_payments=df_merged_items_reviews_2.merge(df_payments, on = 'order_id', indicator = True)"
   ]
  },
  {
   "cell_type": "code",
   "execution_count": 50,
   "id": "134c42c3-1c40-40f7-961a-809f14f02029",
   "metadata": {},
   "outputs": [],
   "source": [
    "df_merged_items_payments_2=df_merged_items_payments.drop(columns = ['_merge'])"
   ]
  },
  {
   "cell_type": "code",
   "execution_count": 53,
   "id": "8b4a0bf2-0141-4832-a841-337be63ac1f5",
   "metadata": {},
   "outputs": [],
   "source": [
    "df_merged_items_sellers = df_merged_items_payments_2.merge(df_seller, on = 'seller_id', indicator = True)"
   ]
  },
  {
   "cell_type": "code",
   "execution_count": 55,
   "id": "294d8c56-c2d0-420e-8610-ebed62423105",
   "metadata": {},
   "outputs": [],
   "source": [
    "df_merged_items_sellers_2=df_merged_items_sellers.drop(columns = ['_merge'])"
   ]
  },
  {
   "cell_type": "code",
   "execution_count": 57,
   "id": "ebf1c782-f5ff-480d-82cd-8b467f69fff3",
   "metadata": {},
   "outputs": [
    {
     "name": "stdout",
     "output_type": "stream",
     "text": [
      "<class 'pandas.core.frame.DataFrame'>\n",
      "RangeIndex: 114858 entries, 0 to 114857\n",
      "Data columns (total 28 columns):\n",
      " #   Column                         Non-Null Count   Dtype  \n",
      "---  ------                         --------------   -----  \n",
      " 0   order_id                       114858 non-null  object \n",
      " 1   order_item_id                  114858 non-null  int64  \n",
      " 2   product_id                     114858 non-null  object \n",
      " 3   seller_id                      114858 non-null  object \n",
      " 4   shipping_limit_date            114858 non-null  object \n",
      " 5   price                          114858 non-null  float64\n",
      " 6   freight_value                  114858 non-null  float64\n",
      " 7   Unnamed: 0                     114858 non-null  int64  \n",
      " 8   customer_id                    114858 non-null  object \n",
      " 9   order_status                   114858 non-null  object \n",
      " 10  order_purchase_timestamp       114858 non-null  object \n",
      " 11  order_approved_at              114843 non-null  object \n",
      " 12  order_delivered_carrier_date   114857 non-null  object \n",
      " 13  order_delivered_customer_date  114858 non-null  object \n",
      " 14  order_estimated_delivery_date  114858 non-null  object \n",
      " 15  review_id                      114858 non-null  object \n",
      " 16  review_score                   114858 non-null  int64  \n",
      " 17  review_comment_title           13580 non-null   object \n",
      " 18  review_comment_message         48094 non-null   object \n",
      " 19  review_creation_date           114858 non-null  object \n",
      " 20  review_answer_timestamp        114858 non-null  object \n",
      " 21  payment_sequential             114858 non-null  int64  \n",
      " 22  payment_type                   114858 non-null  object \n",
      " 23  payment_installments           114858 non-null  int64  \n",
      " 24  payment_value                  114858 non-null  float64\n",
      " 25  seller_zip_code_prefix         114858 non-null  int64  \n",
      " 26  seller_city                    114858 non-null  object \n",
      " 27  seller_state                   114858 non-null  object \n",
      "dtypes: float64(3), int64(6), object(19)\n",
      "memory usage: 24.5+ MB\n"
     ]
    }
   ],
   "source": [
    "df_merged_items_sellers_2.info()"
   ]
  },
  {
   "cell_type": "code",
   "execution_count": 59,
   "id": "e7586f55-bf6c-4317-abd1-a7d93a4f3435",
   "metadata": {},
   "outputs": [],
   "source": [
    "df_merged_items_customer = df_merged_items_sellers_2.merge(df_customers, on = 'customer_id', indicator = True)"
   ]
  },
  {
   "cell_type": "code",
   "execution_count": 61,
   "id": "16a841c3-ad5e-47b7-a94c-3b62aa82f032",
   "metadata": {},
   "outputs": [],
   "source": [
    "df_merged_items_customer_2=df_merged_items_customer.drop(columns = ['_merge'])"
   ]
  },
  {
   "cell_type": "code",
   "execution_count": 63,
   "id": "5a409050-88dd-4486-b744-1d1491d0cd30",
   "metadata": {},
   "outputs": [],
   "source": [
    "df_merged = df_merged_items_customer_2.merge(df_products, on = 'product_id', indicator = True)"
   ]
  },
  {
   "cell_type": "code",
   "execution_count": 65,
   "id": "7ac84f4c-42ae-4b6c-856e-c4967060ee93",
   "metadata": {},
   "outputs": [
    {
     "name": "stdout",
     "output_type": "stream",
     "text": [
      "<class 'pandas.core.frame.DataFrame'>\n",
      "RangeIndex: 113232 entries, 0 to 113231\n",
      "Data columns (total 42 columns):\n",
      " #   Column                         Non-Null Count   Dtype   \n",
      "---  ------                         --------------   -----   \n",
      " 0   order_id                       113232 non-null  object  \n",
      " 1   order_item_id                  113232 non-null  int64   \n",
      " 2   product_id                     113232 non-null  object  \n",
      " 3   seller_id                      113232 non-null  object  \n",
      " 4   shipping_limit_date            113232 non-null  object  \n",
      " 5   price                          113232 non-null  float64 \n",
      " 6   freight_value                  113232 non-null  float64 \n",
      " 7   Unnamed: 0_x                   113232 non-null  int64   \n",
      " 8   customer_id                    113232 non-null  object  \n",
      " 9   order_status                   113232 non-null  object  \n",
      " 10  order_purchase_timestamp       113232 non-null  object  \n",
      " 11  order_approved_at              113218 non-null  object  \n",
      " 12  order_delivered_carrier_date   113231 non-null  object  \n",
      " 13  order_delivered_customer_date  113232 non-null  object  \n",
      " 14  order_estimated_delivery_date  113232 non-null  object  \n",
      " 15  review_id                      113232 non-null  object  \n",
      " 16  review_score                   113232 non-null  int64   \n",
      " 17  review_comment_title           13502 non-null   object  \n",
      " 18  review_comment_message         47377 non-null   object  \n",
      " 19  review_creation_date           113232 non-null  object  \n",
      " 20  review_answer_timestamp        113232 non-null  object  \n",
      " 21  payment_sequential             113232 non-null  int64   \n",
      " 22  payment_type                   113232 non-null  object  \n",
      " 23  payment_installments           113232 non-null  int64   \n",
      " 24  payment_value                  113232 non-null  float64 \n",
      " 25  seller_zip_code_prefix         113232 non-null  int64   \n",
      " 26  seller_city                    113232 non-null  object  \n",
      " 27  seller_state                   113232 non-null  object  \n",
      " 28  customer_unique_id             113232 non-null  object  \n",
      " 29  customer_zip_code_prefix       113232 non-null  int64   \n",
      " 30  customer_city                  113232 non-null  object  \n",
      " 31  customer_state                 113232 non-null  object  \n",
      " 32  Unnamed: 0_y                   113232 non-null  int64   \n",
      " 33  product_category_name          113232 non-null  object  \n",
      " 34  product_name_lenght            113232 non-null  float64 \n",
      " 35  product_description_lenght     113232 non-null  float64 \n",
      " 36  product_photos_qty             113232 non-null  float64 \n",
      " 37  product_weight_g               113231 non-null  float64 \n",
      " 38  product_length_cm              113231 non-null  float64 \n",
      " 39  product_height_cm              113231 non-null  float64 \n",
      " 40  product_width_cm               113231 non-null  float64 \n",
      " 41  _merge                         113232 non-null  category\n",
      "dtypes: category(1), float64(10), int64(8), object(23)\n",
      "memory usage: 35.5+ MB\n"
     ]
    }
   ],
   "source": [
    "df_merged.info()"
   ]
  },
  {
   "cell_type": "code",
   "execution_count": 67,
   "id": "72791933-edea-4dc3-9528-1d02bed8e96b",
   "metadata": {},
   "outputs": [],
   "source": [
    "df_merged_1=df_merged.drop(columns = ['Unnamed: 0_y'])"
   ]
  },
  {
   "cell_type": "code",
   "execution_count": 69,
   "id": "49ffdb77-4dc4-4e04-9219-cc1526c0949c",
   "metadata": {},
   "outputs": [],
   "source": [
    "df_merged_2=df_merged_1.drop(columns = ['Unnamed: 0_x'])"
   ]
  },
  {
   "cell_type": "code",
   "execution_count": 71,
   "id": "b1611119-0bad-4095-bbc6-9d2cf352eb6d",
   "metadata": {},
   "outputs": [],
   "source": [
    "df_merged_3=df_merged_2.drop(columns = ['_merge'])"
   ]
  },
  {
   "cell_type": "code",
   "execution_count": 92,
   "id": "8281e2e5-9277-43f0-8a09-21948eee3c92",
   "metadata": {},
   "outputs": [
    {
     "name": "stdout",
     "output_type": "stream",
     "text": [
      "<class 'pandas.core.frame.DataFrame'>\n",
      "RangeIndex: 113232 entries, 0 to 113231\n",
      "Data columns (total 39 columns):\n",
      " #   Column                         Non-Null Count   Dtype  \n",
      "---  ------                         --------------   -----  \n",
      " 0   order_id                       113232 non-null  object \n",
      " 1   order_item_id                  113232 non-null  int64  \n",
      " 2   product_id                     113232 non-null  object \n",
      " 3   seller_id                      113232 non-null  object \n",
      " 4   shipping_limit_date            113232 non-null  object \n",
      " 5   price                          113232 non-null  float64\n",
      " 6   freight_value                  113232 non-null  float64\n",
      " 7   customer_id                    113232 non-null  object \n",
      " 8   order_status                   113232 non-null  object \n",
      " 9   order_purchase_timestamp       113232 non-null  object \n",
      " 10  order_approved_at              113218 non-null  object \n",
      " 11  order_delivered_carrier_date   113231 non-null  object \n",
      " 12  order_delivered_customer_date  113232 non-null  object \n",
      " 13  order_estimated_delivery_date  113232 non-null  object \n",
      " 14  review_id                      113232 non-null  object \n",
      " 15  review_score                   113232 non-null  int64  \n",
      " 16  review_comment_title           13502 non-null   object \n",
      " 17  review_comment_message         47377 non-null   object \n",
      " 18  review_creation_date           113232 non-null  object \n",
      " 19  review_answer_timestamp        113232 non-null  object \n",
      " 20  payment_sequential             113232 non-null  int64  \n",
      " 21  payment_type                   113232 non-null  object \n",
      " 22  payment_installments           113232 non-null  int64  \n",
      " 23  payment_value                  113232 non-null  float64\n",
      " 24  seller_zip_code_prefix         113232 non-null  int64  \n",
      " 25  seller_city                    113232 non-null  object \n",
      " 26  seller_state                   113232 non-null  object \n",
      " 27  customer_unique_id             113232 non-null  object \n",
      " 28  customer_zip_code_prefix       113232 non-null  int64  \n",
      " 29  customer_city                  113232 non-null  object \n",
      " 30  customer_state                 113232 non-null  object \n",
      " 31  product_category_name          113232 non-null  object \n",
      " 32  product_name_lenght            113232 non-null  float64\n",
      " 33  product_description_lenght     113232 non-null  float64\n",
      " 34  product_photos_qty             113232 non-null  float64\n",
      " 35  product_weight_g               113231 non-null  float64\n",
      " 36  product_length_cm              113231 non-null  float64\n",
      " 37  product_height_cm              113231 non-null  float64\n",
      " 38  product_width_cm               113231 non-null  float64\n",
      "dtypes: float64(10), int64(6), object(23)\n",
      "memory usage: 33.7+ MB\n"
     ]
    }
   ],
   "source": [
    "df_merged_3.info()"
   ]
  },
  {
   "cell_type": "code",
   "execution_count": 73,
   "id": "34cd904f-617d-4671-a2dc-96f814886f3e",
   "metadata": {},
   "outputs": [
    {
     "ename": "KeyError",
     "evalue": "'zip_code_prefix'",
     "output_type": "error",
     "traceback": [
      "\u001b[0;31m---------------------------------------------------------------------------\u001b[0m",
      "\u001b[0;31mKeyError\u001b[0m                                  Traceback (most recent call last)",
      "\u001b[0;32m/var/folders/13/1jb5kb0d14783hy2x_n_wdrm0000gn/T/ipykernel_89271/1543118437.py\u001b[0m in \u001b[0;36m?\u001b[0;34m()\u001b[0m\n\u001b[0;32m----> 1\u001b[0;31m \u001b[0mdf_merg_4\u001b[0m \u001b[0;34m=\u001b[0m \u001b[0mdf_merged_3\u001b[0m\u001b[0;34m.\u001b[0m\u001b[0mmerge\u001b[0m\u001b[0;34m(\u001b[0m\u001b[0mdf_geolocation\u001b[0m\u001b[0;34m,\u001b[0m \u001b[0mon\u001b[0m \u001b[0;34m=\u001b[0m \u001b[0;34m'zip_code_prefix'\u001b[0m\u001b[0;34m,\u001b[0m \u001b[0mindicator\u001b[0m \u001b[0;34m=\u001b[0m \u001b[0;32mTrue\u001b[0m\u001b[0;34m)\u001b[0m\u001b[0;34m\u001b[0m\u001b[0;34m\u001b[0m\u001b[0m\n\u001b[0m",
      "\u001b[0;32m/opt/anaconda3/lib/python3.12/site-packages/pandas/core/frame.py\u001b[0m in \u001b[0;36m?\u001b[0;34m(self, right, how, on, left_on, right_on, left_index, right_index, sort, suffixes, copy, indicator, validate)\u001b[0m\n\u001b[1;32m  10828\u001b[0m         \u001b[0mvalidate\u001b[0m\u001b[0;34m:\u001b[0m \u001b[0mMergeValidate\u001b[0m \u001b[0;34m|\u001b[0m \u001b[0;32mNone\u001b[0m \u001b[0;34m=\u001b[0m \u001b[0;32mNone\u001b[0m\u001b[0;34m,\u001b[0m\u001b[0;34m\u001b[0m\u001b[0;34m\u001b[0m\u001b[0m\n\u001b[1;32m  10829\u001b[0m     \u001b[0;34m)\u001b[0m \u001b[0;34m->\u001b[0m \u001b[0mDataFrame\u001b[0m\u001b[0;34m:\u001b[0m\u001b[0;34m\u001b[0m\u001b[0;34m\u001b[0m\u001b[0m\n\u001b[1;32m  10830\u001b[0m         \u001b[0;32mfrom\u001b[0m \u001b[0mpandas\u001b[0m\u001b[0;34m.\u001b[0m\u001b[0mcore\u001b[0m\u001b[0;34m.\u001b[0m\u001b[0mreshape\u001b[0m\u001b[0;34m.\u001b[0m\u001b[0mmerge\u001b[0m \u001b[0;32mimport\u001b[0m \u001b[0mmerge\u001b[0m\u001b[0;34m\u001b[0m\u001b[0;34m\u001b[0m\u001b[0m\n\u001b[1;32m  10831\u001b[0m \u001b[0;34m\u001b[0m\u001b[0m\n\u001b[0;32m> 10832\u001b[0;31m         return merge(\n\u001b[0m\u001b[1;32m  10833\u001b[0m             \u001b[0mself\u001b[0m\u001b[0;34m,\u001b[0m\u001b[0;34m\u001b[0m\u001b[0;34m\u001b[0m\u001b[0m\n\u001b[1;32m  10834\u001b[0m             \u001b[0mright\u001b[0m\u001b[0;34m,\u001b[0m\u001b[0;34m\u001b[0m\u001b[0;34m\u001b[0m\u001b[0m\n\u001b[1;32m  10835\u001b[0m             \u001b[0mhow\u001b[0m\u001b[0;34m=\u001b[0m\u001b[0mhow\u001b[0m\u001b[0;34m,\u001b[0m\u001b[0;34m\u001b[0m\u001b[0;34m\u001b[0m\u001b[0m\n",
      "\u001b[0;32m/opt/anaconda3/lib/python3.12/site-packages/pandas/core/reshape/merge.py\u001b[0m in \u001b[0;36m?\u001b[0;34m(left, right, how, on, left_on, right_on, left_index, right_index, sort, suffixes, copy, indicator, validate)\u001b[0m\n\u001b[1;32m    166\u001b[0m             \u001b[0mvalidate\u001b[0m\u001b[0;34m=\u001b[0m\u001b[0mvalidate\u001b[0m\u001b[0;34m,\u001b[0m\u001b[0;34m\u001b[0m\u001b[0;34m\u001b[0m\u001b[0m\n\u001b[1;32m    167\u001b[0m             \u001b[0mcopy\u001b[0m\u001b[0;34m=\u001b[0m\u001b[0mcopy\u001b[0m\u001b[0;34m,\u001b[0m\u001b[0;34m\u001b[0m\u001b[0;34m\u001b[0m\u001b[0m\n\u001b[1;32m    168\u001b[0m         \u001b[0;34m)\u001b[0m\u001b[0;34m\u001b[0m\u001b[0;34m\u001b[0m\u001b[0m\n\u001b[1;32m    169\u001b[0m     \u001b[0;32melse\u001b[0m\u001b[0;34m:\u001b[0m\u001b[0;34m\u001b[0m\u001b[0;34m\u001b[0m\u001b[0m\n\u001b[0;32m--> 170\u001b[0;31m         op = _MergeOperation(\n\u001b[0m\u001b[1;32m    171\u001b[0m             \u001b[0mleft_df\u001b[0m\u001b[0;34m,\u001b[0m\u001b[0;34m\u001b[0m\u001b[0;34m\u001b[0m\u001b[0m\n\u001b[1;32m    172\u001b[0m             \u001b[0mright_df\u001b[0m\u001b[0;34m,\u001b[0m\u001b[0;34m\u001b[0m\u001b[0;34m\u001b[0m\u001b[0m\n\u001b[1;32m    173\u001b[0m             \u001b[0mhow\u001b[0m\u001b[0;34m=\u001b[0m\u001b[0mhow\u001b[0m\u001b[0;34m,\u001b[0m\u001b[0;34m\u001b[0m\u001b[0;34m\u001b[0m\u001b[0m\n",
      "\u001b[0;32m/opt/anaconda3/lib/python3.12/site-packages/pandas/core/reshape/merge.py\u001b[0m in \u001b[0;36m?\u001b[0;34m(self, left, right, how, on, left_on, right_on, left_index, right_index, sort, suffixes, indicator, validate)\u001b[0m\n\u001b[1;32m    790\u001b[0m             \u001b[0mself\u001b[0m\u001b[0;34m.\u001b[0m\u001b[0mright_join_keys\u001b[0m\u001b[0;34m,\u001b[0m\u001b[0;34m\u001b[0m\u001b[0;34m\u001b[0m\u001b[0m\n\u001b[1;32m    791\u001b[0m             \u001b[0mself\u001b[0m\u001b[0;34m.\u001b[0m\u001b[0mjoin_names\u001b[0m\u001b[0;34m,\u001b[0m\u001b[0;34m\u001b[0m\u001b[0;34m\u001b[0m\u001b[0m\n\u001b[1;32m    792\u001b[0m             \u001b[0mleft_drop\u001b[0m\u001b[0;34m,\u001b[0m\u001b[0;34m\u001b[0m\u001b[0;34m\u001b[0m\u001b[0m\n\u001b[1;32m    793\u001b[0m             \u001b[0mright_drop\u001b[0m\u001b[0;34m,\u001b[0m\u001b[0;34m\u001b[0m\u001b[0;34m\u001b[0m\u001b[0m\n\u001b[0;32m--> 794\u001b[0;31m         \u001b[0;34m)\u001b[0m \u001b[0;34m=\u001b[0m \u001b[0mself\u001b[0m\u001b[0;34m.\u001b[0m\u001b[0m_get_merge_keys\u001b[0m\u001b[0;34m(\u001b[0m\u001b[0;34m)\u001b[0m\u001b[0;34m\u001b[0m\u001b[0;34m\u001b[0m\u001b[0m\n\u001b[0m\u001b[1;32m    795\u001b[0m \u001b[0;34m\u001b[0m\u001b[0m\n\u001b[1;32m    796\u001b[0m         \u001b[0;32mif\u001b[0m \u001b[0mleft_drop\u001b[0m\u001b[0;34m:\u001b[0m\u001b[0;34m\u001b[0m\u001b[0;34m\u001b[0m\u001b[0m\n\u001b[1;32m    797\u001b[0m             \u001b[0mself\u001b[0m\u001b[0;34m.\u001b[0m\u001b[0mleft\u001b[0m \u001b[0;34m=\u001b[0m \u001b[0mself\u001b[0m\u001b[0;34m.\u001b[0m\u001b[0mleft\u001b[0m\u001b[0;34m.\u001b[0m\u001b[0m_drop_labels_or_levels\u001b[0m\u001b[0;34m(\u001b[0m\u001b[0mleft_drop\u001b[0m\u001b[0;34m)\u001b[0m\u001b[0;34m\u001b[0m\u001b[0;34m\u001b[0m\u001b[0m\n",
      "\u001b[0;32m/opt/anaconda3/lib/python3.12/site-packages/pandas/core/reshape/merge.py\u001b[0m in \u001b[0;36m?\u001b[0;34m(self)\u001b[0m\n\u001b[1;32m   1293\u001b[0m                         \u001b[0;31m# Then we're either Hashable or a wrong-length arraylike,\u001b[0m\u001b[0;34m\u001b[0m\u001b[0;34m\u001b[0m\u001b[0m\n\u001b[1;32m   1294\u001b[0m                         \u001b[0;31m#  the latter of which will raise\u001b[0m\u001b[0;34m\u001b[0m\u001b[0;34m\u001b[0m\u001b[0m\n\u001b[1;32m   1295\u001b[0m                         \u001b[0mrk\u001b[0m \u001b[0;34m=\u001b[0m \u001b[0mcast\u001b[0m\u001b[0;34m(\u001b[0m\u001b[0mHashable\u001b[0m\u001b[0;34m,\u001b[0m \u001b[0mrk\u001b[0m\u001b[0;34m)\u001b[0m\u001b[0;34m\u001b[0m\u001b[0;34m\u001b[0m\u001b[0m\n\u001b[1;32m   1296\u001b[0m                         \u001b[0;32mif\u001b[0m \u001b[0mrk\u001b[0m \u001b[0;32mis\u001b[0m \u001b[0;32mnot\u001b[0m \u001b[0;32mNone\u001b[0m\u001b[0;34m:\u001b[0m\u001b[0;34m\u001b[0m\u001b[0;34m\u001b[0m\u001b[0m\n\u001b[0;32m-> 1297\u001b[0;31m                             \u001b[0mright_keys\u001b[0m\u001b[0;34m.\u001b[0m\u001b[0mappend\u001b[0m\u001b[0;34m(\u001b[0m\u001b[0mright\u001b[0m\u001b[0;34m.\u001b[0m\u001b[0m_get_label_or_level_values\u001b[0m\u001b[0;34m(\u001b[0m\u001b[0mrk\u001b[0m\u001b[0;34m)\u001b[0m\u001b[0;34m)\u001b[0m\u001b[0;34m\u001b[0m\u001b[0;34m\u001b[0m\u001b[0m\n\u001b[0m\u001b[1;32m   1298\u001b[0m                         \u001b[0;32melse\u001b[0m\u001b[0;34m:\u001b[0m\u001b[0;34m\u001b[0m\u001b[0;34m\u001b[0m\u001b[0m\n\u001b[1;32m   1299\u001b[0m                             \u001b[0;31m# work-around for merge_asof(right_index=True)\u001b[0m\u001b[0;34m\u001b[0m\u001b[0;34m\u001b[0m\u001b[0m\n\u001b[1;32m   1300\u001b[0m                             \u001b[0mright_keys\u001b[0m\u001b[0;34m.\u001b[0m\u001b[0mappend\u001b[0m\u001b[0;34m(\u001b[0m\u001b[0mright\u001b[0m\u001b[0;34m.\u001b[0m\u001b[0mindex\u001b[0m\u001b[0;34m.\u001b[0m\u001b[0m_values\u001b[0m\u001b[0;34m)\u001b[0m\u001b[0;34m\u001b[0m\u001b[0;34m\u001b[0m\u001b[0m\n",
      "\u001b[0;32m/opt/anaconda3/lib/python3.12/site-packages/pandas/core/generic.py\u001b[0m in \u001b[0;36m?\u001b[0;34m(self, key, axis)\u001b[0m\n\u001b[1;32m   1907\u001b[0m             \u001b[0mvalues\u001b[0m \u001b[0;34m=\u001b[0m \u001b[0mself\u001b[0m\u001b[0;34m.\u001b[0m\u001b[0mxs\u001b[0m\u001b[0;34m(\u001b[0m\u001b[0mkey\u001b[0m\u001b[0;34m,\u001b[0m \u001b[0maxis\u001b[0m\u001b[0;34m=\u001b[0m\u001b[0mother_axes\u001b[0m\u001b[0;34m[\u001b[0m\u001b[0;36m0\u001b[0m\u001b[0;34m]\u001b[0m\u001b[0;34m)\u001b[0m\u001b[0;34m.\u001b[0m\u001b[0m_values\u001b[0m\u001b[0;34m\u001b[0m\u001b[0;34m\u001b[0m\u001b[0m\n\u001b[1;32m   1908\u001b[0m         \u001b[0;32melif\u001b[0m \u001b[0mself\u001b[0m\u001b[0;34m.\u001b[0m\u001b[0m_is_level_reference\u001b[0m\u001b[0;34m(\u001b[0m\u001b[0mkey\u001b[0m\u001b[0;34m,\u001b[0m \u001b[0maxis\u001b[0m\u001b[0;34m=\u001b[0m\u001b[0maxis\u001b[0m\u001b[0;34m)\u001b[0m\u001b[0;34m:\u001b[0m\u001b[0;34m\u001b[0m\u001b[0;34m\u001b[0m\u001b[0m\n\u001b[1;32m   1909\u001b[0m             \u001b[0mvalues\u001b[0m \u001b[0;34m=\u001b[0m \u001b[0mself\u001b[0m\u001b[0;34m.\u001b[0m\u001b[0maxes\u001b[0m\u001b[0;34m[\u001b[0m\u001b[0maxis\u001b[0m\u001b[0;34m]\u001b[0m\u001b[0;34m.\u001b[0m\u001b[0mget_level_values\u001b[0m\u001b[0;34m(\u001b[0m\u001b[0mkey\u001b[0m\u001b[0;34m)\u001b[0m\u001b[0;34m.\u001b[0m\u001b[0m_values\u001b[0m\u001b[0;34m\u001b[0m\u001b[0;34m\u001b[0m\u001b[0m\n\u001b[1;32m   1910\u001b[0m         \u001b[0;32melse\u001b[0m\u001b[0;34m:\u001b[0m\u001b[0;34m\u001b[0m\u001b[0;34m\u001b[0m\u001b[0m\n\u001b[0;32m-> 1911\u001b[0;31m             \u001b[0;32mraise\u001b[0m \u001b[0mKeyError\u001b[0m\u001b[0;34m(\u001b[0m\u001b[0mkey\u001b[0m\u001b[0;34m)\u001b[0m\u001b[0;34m\u001b[0m\u001b[0;34m\u001b[0m\u001b[0m\n\u001b[0m\u001b[1;32m   1912\u001b[0m \u001b[0;34m\u001b[0m\u001b[0m\n\u001b[1;32m   1913\u001b[0m         \u001b[0;31m# Check for duplicates\u001b[0m\u001b[0;34m\u001b[0m\u001b[0;34m\u001b[0m\u001b[0m\n\u001b[1;32m   1914\u001b[0m         \u001b[0;32mif\u001b[0m \u001b[0mvalues\u001b[0m\u001b[0;34m.\u001b[0m\u001b[0mndim\u001b[0m \u001b[0;34m>\u001b[0m \u001b[0;36m1\u001b[0m\u001b[0;34m:\u001b[0m\u001b[0;34m\u001b[0m\u001b[0;34m\u001b[0m\u001b[0m\n",
      "\u001b[0;31mKeyError\u001b[0m: 'zip_code_prefix'"
     ]
    }
   ],
   "source": [
    "df_merg_4 = df_merged_3.merge(df_geolocation, on = 'zip_code_prefix', indicator = True)"
   ]
  },
  {
   "cell_type": "code",
   "execution_count": 73,
   "id": "0d73965f-e3e9-4eab-b449-efcc67e443a0",
   "metadata": {},
   "outputs": [],
   "source": [
    "#Export your final and cleaned files \n",
    "\n",
    "path_prepared_data = r'/Users/janekobtseva/10-10-2025 Brazilian E-Commerce Public Dataset/02 Data/Prepared Data'"
   ]
  },
  {
   "cell_type": "code",
   "execution_count": 75,
   "id": "2433dfc6-5a0d-45cf-b959-118f5493cf9e",
   "metadata": {},
   "outputs": [],
   "source": [
    "df_merged_3.to_csv(os.path.join(path_prepared_data,'df_merged_3.csv'))"
   ]
  },
  {
   "cell_type": "code",
   "execution_count": null,
   "id": "0cca9e55-325a-4054-8868-39e44b9cbb83",
   "metadata": {},
   "outputs": [],
   "source": []
  }
 ],
 "metadata": {
  "kernelspec": {
   "display_name": "Python 3 (ipykernel)",
   "language": "python",
   "name": "python3"
  },
  "language_info": {
   "codemirror_mode": {
    "name": "ipython",
    "version": 3
   },
   "file_extension": ".py",
   "mimetype": "text/x-python",
   "name": "python",
   "nbconvert_exporter": "python",
   "pygments_lexer": "ipython3",
   "version": "3.12.4"
  }
 },
 "nbformat": 4,
 "nbformat_minor": 5
}
